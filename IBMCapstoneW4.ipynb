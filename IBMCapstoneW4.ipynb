{
 "cells": [
  {
   "cell_type": "markdown",
   "metadata": {},
   "source": [
    "# IBMCapstone_W4\n",
    "\n",
    "# The Battle of Neighborhoods and Cities\n",
    "\n",
    "##### This Markdown file is meant to explain the process of dealing with analysis problems of the neighborhoods/cities based on the rating for each venue category based on the statistics of foursquare.com\n",
    "\n",
    "- Author: WENCAI\n",
    "- Date: 20190909"
   ]
  },
  {
   "cell_type": "markdown",
   "metadata": {},
   "source": [
    "#### 0. Status Quo / Question raised\n",
    "Sometimes we always ask ourselves, what will happen if we can move to another neighborhood within the city or even more interesting, what will happen if we can move to another city even?\n",
    "- Which city should I choose?\n",
    "- Which neighborhood should I choose? \n",
    "- Will the new neighborhood be suitable for me?\n",
    "\n",
    "Well, for this time, we assume you get a job opportunity, both in Toronto and New York. The good news is, we can utilize the data/information which is available in foursquare.com and we will try to cluster the neighborhoods between the two cities and then try to find out the \"set\" of neighborhoods which you can choose between these two cities."
   ]
  },
  {
   "cell_type": "markdown",
   "metadata": {},
   "source": [
    "#### 1. Where do we want to go:\n",
    "We would like to use the KMeans clustering method to determine the neighborhood similarity for all the neighborhoods of the cities New York and Toronto. The similarity is determined by the rating of different categories within the neighborhood. Neighborhood A with good cafe in New York should belong to the same cluster together with neighborhood B with good cafe in Toronto. So that those who live in the Neighborhood A can choose to live in Neighborhood B, if they move their home.\n",
    "\n",
    "Assume that we get altogether k clusters as a result. At the end of the day, we will get k \"set\" of neighborhoods, where the residents wont experience much differences regarding the quality of living."
   ]
  },
  {
   "cell_type": "markdown",
   "metadata": {},
   "source": [
    "#### 2. How can we go to the target:\n",
    "- foursquare API:\n",
    "    - venue detail: venue + rating + category (1)\n",
    "    - explore: venue + lattitude + longtitude (2)\n",
    "- cities, which contain neighborhood information (3)\n",
    "- google maps API, which contains lattitude + longitude + neighborhood (4)"
   ]
  },
  {
   "cell_type": "code",
   "execution_count": 17,
   "metadata": {},
   "outputs": [],
   "source": [
    "# as usual i will hide the credential\n",
    "client_id=\"\"\n",
    "client_secret=\"\""
   ]
  },
  {
   "cell_type": "markdown",
   "metadata": {},
   "source": [
    "This is how you can get the explore list based on an example of lattitude and longitude:\n",
    "* explore: venue + lattitude + longtitude (2)"
   ]
  },
  {
   "cell_type": "code",
   "execution_count": 18,
   "metadata": {},
   "outputs": [],
   "source": [
    "import json, requests\n",
    "url_ex = 'https://api.foursquare.com/v2/venues/explore'\n",
    "\n",
    "params_ex = dict(\n",
    "  client_id=client_id,\n",
    "  client_secret=client_secret,\n",
    "  v='20180323',\n",
    "  ll='40.7243,-74.0018', # as example, later will be using a \"for\" loop\n",
    "  radius=600,\n",
    "  limit=100\n",
    ")\n",
    "\n",
    "req_ex = requests.get(url=url_ex, params=params_ex)\n",
    "data_ex = json.loads(req_ex.text)"
   ]
  },
  {
   "cell_type": "code",
   "execution_count": 44,
   "metadata": {},
   "outputs": [
    {
     "name": "stdout",
     "output_type": "stream",
     "text": [
      "venue_ID:  4bc11de1abf49521cf98c093\n",
      "venue_Name:  Dance With Me SoHo\n",
      "venue_lattitue:  40.72257786685151\n",
      "venue_longitude:  -74.00136338778867\n"
     ]
    }
   ],
   "source": [
    "# we take the item number 0 as the example here\n",
    "print(\"venue_ID: \", data_ex[\"response\"]['groups'][0]['items'][0]['venue']['id'])\n",
    "print(\"venue_Name: \", data_ex[\"response\"]['groups'][0]['items'][0]['venue']['name'])\n",
    "print(\"venue_lattitue: \", data_ex[\"response\"]['groups'][0]['items'][0]['venue']['location']['lat'])\n",
    "print(\"venue_longitude: \", data_ex[\"response\"]['groups'][0]['items'][0]['venue']['location']['lng'])"
   ]
  },
  {
   "cell_type": "markdown",
   "metadata": {},
   "source": [
    "Then we take the ID above as the example to check the venue details.\n",
    "* This is how you get the rating and category (1)"
   ]
  },
  {
   "cell_type": "code",
   "execution_count": 30,
   "metadata": {},
   "outputs": [],
   "source": [
    "import json, requests\n",
    "venue_id=\"4bc11de1abf49521cf98c093\"\n",
    "url_ve = 'https://api.foursquare.com/v2/venues/{}'.format(venue_id)\n",
    "\n",
    "params_ve = dict(\n",
    "  client_id=client_id,\n",
    "  client_secret=client_secret,\n",
    "  v='20180323'\n",
    ")\n",
    "req_ve = requests.get(url=url_ve, params=params_ve)\n",
    "data_ve = json.loads(req_ve.text)"
   ]
  },
  {
   "cell_type": "code",
   "execution_count": 43,
   "metadata": {},
   "outputs": [
    {
     "name": "stdout",
     "output_type": "stream",
     "text": [
      "venue_id:  4bc11de1abf49521cf98c093\n",
      "venue_name:  Dance With Me SoHo\n",
      "venue_rating:  9.3\n",
      "venue_category:  Dance Studio\n"
     ]
    }
   ],
   "source": [
    "print(\"venue_id: \",data_ve[\"response\"][\"venue\"][\"id\"])\n",
    "print(\"venue_name: \",data_ve[\"response\"][\"venue\"][\"name\"])\n",
    "print(\"venue_rating: \",data_ve[\"response\"][\"venue\"][\"rating\"])\n",
    "print(\"venue_category: \",data_ve[\"response\"][\"venue\"][\"categories\"][0][\"name\"])"
   ]
  },
  {
   "cell_type": "markdown",
   "metadata": {},
   "source": [
    "If we talk about the location files, we will use the available ones from the course.\n",
    "* Here you will see the lattitude + longtitude + neighborhood (3) (4)\n",
    "\n",
    "Example for Toronto:"
   ]
  },
  {
   "cell_type": "code",
   "execution_count": 46,
   "metadata": {},
   "outputs": [
    {
     "data": {
      "text/html": [
       "<div>\n",
       "<style scoped>\n",
       "    .dataframe tbody tr th:only-of-type {\n",
       "        vertical-align: middle;\n",
       "    }\n",
       "\n",
       "    .dataframe tbody tr th {\n",
       "        vertical-align: top;\n",
       "    }\n",
       "\n",
       "    .dataframe thead th {\n",
       "        text-align: right;\n",
       "    }\n",
       "</style>\n",
       "<table border=\"1\" class=\"dataframe\">\n",
       "  <thead>\n",
       "    <tr style=\"text-align: right;\">\n",
       "      <th></th>\n",
       "      <th>Postcode</th>\n",
       "      <th>Borough</th>\n",
       "      <th>Neighbourhood</th>\n",
       "      <th>Latitude</th>\n",
       "      <th>Longitude</th>\n",
       "    </tr>\n",
       "  </thead>\n",
       "  <tbody>\n",
       "    <tr>\n",
       "      <td>0</td>\n",
       "      <td>M1B</td>\n",
       "      <td>Scarborough</td>\n",
       "      <td>Rouge, Malvern</td>\n",
       "      <td>43.806686</td>\n",
       "      <td>-79.194353</td>\n",
       "    </tr>\n",
       "    <tr>\n",
       "      <td>1</td>\n",
       "      <td>M1C</td>\n",
       "      <td>Scarborough</td>\n",
       "      <td>Highland Creek, Rouge Hill, Port Union</td>\n",
       "      <td>43.784535</td>\n",
       "      <td>-79.160497</td>\n",
       "    </tr>\n",
       "    <tr>\n",
       "      <td>2</td>\n",
       "      <td>M1E</td>\n",
       "      <td>Scarborough</td>\n",
       "      <td>Guildwood, Morningside, West Hill</td>\n",
       "      <td>43.763573</td>\n",
       "      <td>-79.188711</td>\n",
       "    </tr>\n",
       "    <tr>\n",
       "      <td>3</td>\n",
       "      <td>M1G</td>\n",
       "      <td>Scarborough</td>\n",
       "      <td>Woburn</td>\n",
       "      <td>43.770992</td>\n",
       "      <td>-79.216917</td>\n",
       "    </tr>\n",
       "    <tr>\n",
       "      <td>4</td>\n",
       "      <td>M1H</td>\n",
       "      <td>Scarborough</td>\n",
       "      <td>Cedarbrae</td>\n",
       "      <td>43.773136</td>\n",
       "      <td>-79.239476</td>\n",
       "    </tr>\n",
       "    <tr>\n",
       "      <td>...</td>\n",
       "      <td>...</td>\n",
       "      <td>...</td>\n",
       "      <td>...</td>\n",
       "      <td>...</td>\n",
       "      <td>...</td>\n",
       "    </tr>\n",
       "    <tr>\n",
       "      <td>98</td>\n",
       "      <td>M9N</td>\n",
       "      <td>York</td>\n",
       "      <td>Weston</td>\n",
       "      <td>43.706876</td>\n",
       "      <td>-79.518188</td>\n",
       "    </tr>\n",
       "    <tr>\n",
       "      <td>99</td>\n",
       "      <td>M9P</td>\n",
       "      <td>Etobicoke</td>\n",
       "      <td>Westmount</td>\n",
       "      <td>43.696319</td>\n",
       "      <td>-79.532242</td>\n",
       "    </tr>\n",
       "    <tr>\n",
       "      <td>100</td>\n",
       "      <td>M9R</td>\n",
       "      <td>Etobicoke</td>\n",
       "      <td>Kingsview Village, Martin Grove Gardens, Richv...</td>\n",
       "      <td>43.688905</td>\n",
       "      <td>-79.554724</td>\n",
       "    </tr>\n",
       "    <tr>\n",
       "      <td>101</td>\n",
       "      <td>M9V</td>\n",
       "      <td>Etobicoke</td>\n",
       "      <td>Albion Gardens, Beaumond Heights, Humbergate, ...</td>\n",
       "      <td>43.739416</td>\n",
       "      <td>-79.588437</td>\n",
       "    </tr>\n",
       "    <tr>\n",
       "      <td>102</td>\n",
       "      <td>M9W</td>\n",
       "      <td>Etobicoke</td>\n",
       "      <td>Northwest</td>\n",
       "      <td>43.706748</td>\n",
       "      <td>-79.594054</td>\n",
       "    </tr>\n",
       "  </tbody>\n",
       "</table>\n",
       "<p>103 rows × 5 columns</p>\n",
       "</div>"
      ],
      "text/plain": [
       "    Postcode      Borough                                      Neighbourhood  \\\n",
       "0        M1B  Scarborough                                     Rouge, Malvern   \n",
       "1        M1C  Scarborough             Highland Creek, Rouge Hill, Port Union   \n",
       "2        M1E  Scarborough                  Guildwood, Morningside, West Hill   \n",
       "3        M1G  Scarborough                                             Woburn   \n",
       "4        M1H  Scarborough                                          Cedarbrae   \n",
       "..       ...          ...                                                ...   \n",
       "98       M9N         York                                             Weston   \n",
       "99       M9P    Etobicoke                                          Westmount   \n",
       "100      M9R    Etobicoke  Kingsview Village, Martin Grove Gardens, Richv...   \n",
       "101      M9V    Etobicoke  Albion Gardens, Beaumond Heights, Humbergate, ...   \n",
       "102      M9W    Etobicoke                                          Northwest   \n",
       "\n",
       "      Latitude  Longitude  \n",
       "0    43.806686 -79.194353  \n",
       "1    43.784535 -79.160497  \n",
       "2    43.763573 -79.188711  \n",
       "3    43.770992 -79.216917  \n",
       "4    43.773136 -79.239476  \n",
       "..         ...        ...  \n",
       "98   43.706876 -79.518188  \n",
       "99   43.696319 -79.532242  \n",
       "100  43.688905 -79.554724  \n",
       "101  43.739416 -79.588437  \n",
       "102  43.706748 -79.594054  \n",
       "\n",
       "[103 rows x 5 columns]"
      ]
     },
     "execution_count": 46,
     "metadata": {},
     "output_type": "execute_result"
    }
   ],
   "source": [
    "import pandas as pd\n",
    "post_df_can=pd.read_csv(\"post_df_can.csv\")\n",
    "post_df_can"
   ]
  },
  {
   "cell_type": "markdown",
   "metadata": {},
   "source": [
    "Example for New York:"
   ]
  },
  {
   "cell_type": "code",
   "execution_count": 50,
   "metadata": {},
   "outputs": [
    {
     "data": {
      "text/plain": [
       "(306, 5)"
      ]
     },
     "execution_count": 50,
     "metadata": {},
     "output_type": "execute_result"
    }
   ],
   "source": [
    "post_df_ny=pd.read_csv(\"post_df_ny.csv\")\n",
    "post_df_ny.shape"
   ]
  },
  {
   "cell_type": "code",
   "execution_count": null,
   "metadata": {},
   "outputs": [],
   "source": []
  }
 ],
 "metadata": {
  "kernelspec": {
   "display_name": "Python 3",
   "language": "python",
   "name": "python3"
  },
  "language_info": {
   "codemirror_mode": {
    "name": "ipython",
    "version": 3
   },
   "file_extension": ".py",
   "mimetype": "text/x-python",
   "name": "python",
   "nbconvert_exporter": "python",
   "pygments_lexer": "ipython3",
   "version": "3.6.9"
  }
 },
 "nbformat": 4,
 "nbformat_minor": 2
}
